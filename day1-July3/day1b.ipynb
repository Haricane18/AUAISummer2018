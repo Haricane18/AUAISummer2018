{
  "nbformat": 4,
  "nbformat_minor": 0,
  "metadata": {
    "colab": {
      "name": "day1b.ipynb",
      "version": "0.3.2",
      "provenance": [],
      "include_colab_link": true
    },
    "kernelspec": {
      "name": "python3",
      "display_name": "Python 3"
    }
  },
  "cells": [
    {
      "cell_type": "markdown",
      "metadata": {
        "id": "view-in-github",
        "colab_type": "text"
      },
      "source": [
        "[View in Colaboratory](https://colab.research.google.com/github/Haricane18/AUAISummer2018/blob/master/day1-July3/day1b.ipynb)"
      ]
    },
    {
      "metadata": {
        "id": "rrJ47U9PpE1N",
        "colab_type": "code",
        "colab": {}
      },
      "cell_type": "code",
      "source": [
        ""
      ],
      "execution_count": 0,
      "outputs": []
    },
    {
      "metadata": {
        "id": "OEe4XsKYpV6R",
        "colab_type": "text"
      },
      "cell_type": "markdown",
      "source": [
        "\n",
        "#Asia University Artificial Intelligence Summer 2018\n",
        "\n",
        "##Day 1 Afternoon Session\n",
        "\n",
        "###Intelligence -> Natural and Artificial\n",
        "\n",
        "Introduction to AI\n",
        "\n",
        "Brain to Body mass ratio\n",
        "\n",
        "Number of neurons\n",
        "\n",
        "Encephalization quotient\n",
        "\n",
        "Prolog\n",
        "\n",
        "###Supervised ML\n",
        "\n",
        "Regression\n",
        "\n",
        "Simple\n",
        "\n",
        "Multiple\n",
        "\n",
        "Decision Trees\n",
        "\n",
        "###Unsupervised ML\n",
        "\n",
        "Clustering\n",
        "\n",
        "###Deep Learning\n",
        "\n",
        "###Neural Networks\n",
        "\n",
        "ANN\n",
        "\n",
        "\n",
        "CNN\n",
        "\n",
        "RNN\n",
        "\n",
        "Speech Recognition\n",
        "\n",
        "###Transfer Learning\n",
        "\n",
        "Kaggle\n",
        "\n",
        "Titanic ML Dataset\n",
        "\n",
        "###Paris AI Challenge 2018\n",
        "\n",
        "![ ](https://i2.wp.com/www.innovation-prime.com/wp-content/uploads/2018/05/Paris-Region-AI-Challenge.png?resize=1080%2C553&ssl=1)\n"
      ]
    }
  ]
}